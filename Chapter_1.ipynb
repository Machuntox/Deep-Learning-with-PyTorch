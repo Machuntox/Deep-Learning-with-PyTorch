{
  "nbformat": 4,
  "nbformat_minor": 0,
  "metadata": {
    "colab": {
      "name": "Chapter 1.ipynb",
      "provenance": [],
      "collapsed_sections": [],
      "toc_visible": true,
      "authorship_tag": "ABX9TyPaVZSBCeBXxpEPRgwyuXYc",
      "include_colab_link": true
    },
    "kernelspec": {
      "name": "python3",
      "display_name": "Python 3"
    },
    "language_info": {
      "name": "python"
    },
    "accelerator": "GPU"
  },
  "cells": [
    {
      "cell_type": "markdown",
      "metadata": {
        "id": "view-in-github",
        "colab_type": "text"
      },
      "source": [
        "<a href=\"https://colab.research.google.com/github/Machuntox/Deep-Learning-with-PyTorch/blob/main/Chapter_1.ipynb\" target=\"_parent\"><img src=\"https://colab.research.google.com/assets/colab-badge.svg\" alt=\"Open In Colab\"/></a>"
      ]
    },
    {
      "cell_type": "markdown",
      "source": [
        "Start Python to get an interactive prompt.\n",
        "a) What Pthon version are you using? Must be at least 3.6!"
      ],
      "metadata": {
        "id": "vLCjaKvCv_b4"
      }
    },
    {
      "cell_type": "code",
      "source": [
        "!python -V"
      ],
      "metadata": {
        "colab": {
          "base_uri": "https://localhost:8080/"
        },
        "id": "s2PCEh94v45T",
        "outputId": "d41697d0-00c8-4bb6-abe4-446ff848d201"
      },
      "execution_count": 2,
      "outputs": [
        {
          "output_type": "stream",
          "name": "stdout",
          "text": [
            "Python 3.7.13\n"
          ]
        }
      ]
    },
    {
      "cell_type": "markdown",
      "source": [
        "b) can you import torch? What PyTorch version do you get?"
      ],
      "metadata": {
        "id": "aBnVxsLzwTZS"
      }
    },
    {
      "cell_type": "code",
      "execution_count": 4,
      "metadata": {
        "colab": {
          "base_uri": "https://localhost:8080/"
        },
        "id": "PUEqDuoIujxt",
        "outputId": "88d2e276-5f07-402a-d1ef-3f326d2ba19f"
      },
      "outputs": [
        {
          "output_type": "stream",
          "name": "stdout",
          "text": [
            "1.11.0+cu113\n"
          ]
        }
      ],
      "source": [
        "import torch\n",
        "print(torch.__version__)"
      ]
    },
    {
      "cell_type": "markdown",
      "source": [
        "c) What is the result of torch.cuda.is_available()? Is it a gpu or cpu?"
      ],
      "metadata": {
        "id": "fGc_gUr0wOf6"
      }
    },
    {
      "cell_type": "code",
      "source": [
        "torch.cuda.is_available()"
      ],
      "metadata": {
        "colab": {
          "base_uri": "https://localhost:8080/"
        },
        "id": "8VKD_7MGw7iA",
        "outputId": "587c6582-0e66-42da-a9f2-90188ce0cd43"
      },
      "execution_count": 5,
      "outputs": [
        {
          "output_type": "execute_result",
          "data": {
            "text/plain": [
              "True"
            ]
          },
          "metadata": {},
          "execution_count": 5
        }
      ]
    },
    {
      "cell_type": "markdown",
      "source": [
        "Start the Jupyter notebook server.\n",
        "a) what version of Python is Jupyter using?\n",
        "b) Is the location of the torch library used by Jupyter the same as the one you imported from the interactive prompt?"
      ],
      "metadata": {
        "id": "G6kho5wYxALj"
      }
    },
    {
      "cell_type": "code",
      "source": [
        "!python -V"
      ],
      "metadata": {
        "colab": {
          "base_uri": "https://localhost:8080/"
        },
        "id": "GTv4HxhKw-QV",
        "outputId": "68d435d5-dae7-4822-e6ca-51204ef05b63"
      },
      "execution_count": 6,
      "outputs": [
        {
          "output_type": "stream",
          "name": "stdout",
          "text": [
            "Python 3.7.13\n"
          ]
        }
      ]
    },
    {
      "cell_type": "code",
      "source": [
        ""
      ],
      "metadata": {
        "id": "xF1M8fYlxaOg"
      },
      "execution_count": null,
      "outputs": []
    }
  ]
}