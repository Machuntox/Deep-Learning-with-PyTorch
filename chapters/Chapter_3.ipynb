{
 "cells": [
  {
   "cell_type": "code",
   "execution_count": 2,
   "metadata": {},
   "outputs": [],
   "source": [
    "import torch"
   ]
  },
  {
   "cell_type": "markdown",
   "metadata": {},
   "source": [
    "1. Create tensor a from a list (range(9)). Predict and then check the size, offset and stride of a.\n",
    "\n",
    "a) Create a new tensor using b=a.view(3, 3). What does view do? Check that a and b share the same storage.\n",
    "\n",
    "b) Create a tensor c =b[1:,1:]. Predict and then check the size, offset and stride of c."
   ]
  },
  {
   "cell_type": "code",
   "execution_count": 41,
   "metadata": {},
   "outputs": [
    {
     "name": "stdout",
     "output_type": "stream",
     "text": [
      "torch.Size([9])\n",
      "0\n",
      "(1,)\n"
     ]
    }
   ],
   "source": [
    "a = torch.tensor(range(9))\n",
    "print(a.size())\n",
    "print(a.storage_offset())\n",
    "print(a.stride())"
   ]
  },
  {
   "cell_type": "code",
   "execution_count": 42,
   "metadata": {},
   "outputs": [],
   "source": [
    "b=a.view(3,3)"
   ]
  },
  {
   "cell_type": "markdown",
   "metadata": {},
   "source": [
    "Explanations: b and c are views of a. b is a formatted version of the original tensor a. c is a indexed view of b. The stride is (3,1), because the original storage is still 9. To get from 4 to 7, you have to go three steps (4 -> 5, 5 -> 6, 6 -> 7), because the 6 is still in the storage, even though it is not in the view."
   ]
  },
  {
   "cell_type": "code",
   "execution_count": 43,
   "metadata": {},
   "outputs": [
    {
     "name": "stdout",
     "output_type": "stream",
     "text": [
      "tensor([[4, 5],\n",
      "        [7, 8]])\n",
      "torch.Size([2, 2])\n",
      "4\n",
      "(3, 1)\n"
     ]
    }
   ],
   "source": [
    "c = b[1:,1:]\n",
    "print(c)\n",
    "print(c.size())\n",
    "print(c.storage_offset())\n",
    "print(c.stride())"
   ]
  },
  {
   "cell_type": "markdown",
   "metadata": {},
   "source": [
    "2) Pick a mathematical operation like cosine or square root. Can you find a corresponding function in the torch librarary? \n",
    "\n",
    "a) Apply the cuntion element-wise to a. Why does it return an error?\n",
    "\n",
    "b) What operation is required to make the function work?\n",
    "\n",
    "c) Is there a version of your function that operates in place?"
   ]
  },
  {
   "cell_type": "code",
   "execution_count": 44,
   "metadata": {},
   "outputs": [
    {
     "data": {
      "text/plain": [
       "tensor([0.0000, 1.0000, 1.4142, 1.7321, 2.0000, 2.2361, 2.4495, 2.6458, 2.8284])"
      ]
     },
     "execution_count": 44,
     "metadata": {},
     "output_type": "execute_result"
    }
   ],
   "source": [
    "torch.sqrt(a)"
   ]
  },
  {
   "cell_type": "code",
   "execution_count": 48,
   "metadata": {},
   "outputs": [
    {
     "data": {
      "text/plain": [
       "tensor([0.0000, 1.0000, 1.4142, 1.7321, 2.0000, 2.2361, 2.4495, 2.6458, 2.8284])"
      ]
     },
     "execution_count": 48,
     "metadata": {},
     "output_type": "execute_result"
    }
   ],
   "source": [
    "torch.sqrt(a.float())"
   ]
  },
  {
   "cell_type": "code",
   "execution_count": 50,
   "metadata": {},
   "outputs": [
    {
     "data": {
      "text/plain": [
       "tensor([0.0000, 1.0000, 1.4142, 1.7321, 2.0000, 2.2361, 2.4495, 2.6458, 2.8284])"
      ]
     },
     "execution_count": 50,
     "metadata": {},
     "output_type": "execute_result"
    }
   ],
   "source": [
    "a = a.float()\n",
    "torch.sqrt_(a)\n",
    "a"
   ]
  },
  {
   "cell_type": "code",
   "execution_count": null,
   "metadata": {},
   "outputs": [],
   "source": []
  },
  {
   "cell_type": "code",
   "execution_count": null,
   "metadata": {},
   "outputs": [],
   "source": []
  }
 ],
 "metadata": {
  "interpreter": {
   "hash": "cd84e9cfe7cdf680d9fa6f85106376da3f1a6e6080295fb567cefdef2fe726bd"
  },
  "kernelspec": {
   "display_name": "Python 3.10.4 64-bit ('dlwp')",
   "language": "python",
   "name": "python3"
  },
  "language_info": {
   "codemirror_mode": {
    "name": "ipython",
    "version": 3
   },
   "file_extension": ".py",
   "mimetype": "text/x-python",
   "name": "python",
   "nbconvert_exporter": "python",
   "pygments_lexer": "ipython3",
   "version": "3.10.4"
  },
  "orig_nbformat": 4
 },
 "nbformat": 4,
 "nbformat_minor": 2
}
